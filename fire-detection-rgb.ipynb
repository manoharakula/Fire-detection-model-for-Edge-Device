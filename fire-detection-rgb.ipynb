{
 "cells": [
  {
   "cell_type": "code",
   "execution_count": 2,
   "metadata": {
    "execution": {
     "iopub.execute_input": "2022-04-21T07:38:39.887416Z",
     "iopub.status.busy": "2022-04-21T07:38:39.887189Z",
     "iopub.status.idle": "2022-04-21T07:38:42.347406Z",
     "shell.execute_reply": "2022-04-21T07:38:42.346765Z",
     "shell.execute_reply.started": "2022-04-21T07:38:39.887372Z"
    }
   },
   "outputs": [],
   "source": [
    "import keras\n",
    "keras.__version__\n",
    "import tensorflow as tf\n",
    "tf.__version__"
   ]
  },
  {
   "cell_type": "code",
   "execution_count": 3,
   "metadata": {
    "_cell_guid": "79c7e3d0-c299-4dcb-8224-4455121ee9b0",
    "_uuid": "d629ff2d2480ee46fbb7e2d37f6b5fab8052498a",
    "execution": {
     "iopub.execute_input": "2022-04-21T07:38:42.349823Z",
     "iopub.status.busy": "2022-04-21T07:38:42.349540Z",
     "iopub.status.idle": "2022-04-21T07:38:43.386177Z",
     "shell.execute_reply": "2022-04-21T07:38:43.385054Z",
     "shell.execute_reply.started": "2022-04-21T07:38:42.349777Z"
    }
   },
   "outputs": [],
   "source": [
    "# Ignore  the warnings\n",
    "import warnings\n",
    "warnings.filterwarnings('always')\n",
    "warnings.filterwarnings('ignore')\n",
    "\n",
    "# data visualisation and manipulation\n",
    "import numpy as np\n",
    "import pandas as pd\n",
    "import matplotlib.pyplot as plt\n",
    "from matplotlib import style\n",
    "import seaborn as sns\n",
    " \n",
    "#configure\n",
    "# sets matplotlib to inline and displays graphs below the corressponding cell.\n",
    "%matplotlib inline  \n",
    "style.use('fivethirtyeight')\n",
    "sns.set(style='whitegrid',color_codes=True)\n",
    "\n",
    "#model selection\n",
    "from sklearn.model_selection import train_test_split\n",
    "from sklearn.model_selection import KFold\n",
    "from sklearn.metrics import accuracy_score,precision_score,recall_score,confusion_matrix,roc_curve,roc_auc_score\n",
    "from sklearn.model_selection import GridSearchCV\n",
    "from sklearn.preprocessing import LabelEncoder\n",
    "\n",
    "#preprocess.\n",
    "from keras.preprocessing.image import ImageDataGenerator\n",
    "\n",
    "#dl libraraies\n",
    "from tensorflow.keras import backend as K\n",
    "from tensorflow.keras import regularizers\n",
    "from tensorflow.keras.models import Sequential\n",
    "from tensorflow.keras.models import Model\n",
    "from tensorflow.keras.layers import Dense\n",
    "from tensorflow.keras.optimizers import Adam,SGD,Adagrad,Adadelta,RMSprop\n",
    "from tensorflow.keras.utils import to_categorical\n",
    "from tensorflow.keras.callbacks import ReduceLROnPlateau\n",
    "from tensorflow.keras.callbacks import EarlyStopping\n",
    "\n",
    "# specifically for cnn\n",
    "from tensorflow.keras.layers import Dropout, Flatten,Activation\n",
    "from tensorflow.keras.layers import Conv2D, MaxPooling2D, BatchNormalization\n",
    "from tensorflow.keras.layers import InputLayer\n",
    " \n",
    "import tensorflow as tf\n",
    "import random as rn\n",
    "\n",
    "# specifically for manipulating zipped images and getting numpy arrays of pixel values of images.\n",
    "import cv2                  \n",
    "import numpy as np  \n",
    "from tqdm import tqdm\n",
    "import os                   \n",
    "from random import shuffle  \n",
    "from zipfile import ZipFile\n",
    "from PIL import Image\n",
    "\n",
    "from tensorflow.keras.applications import VGG16\n",
    "\n",
    "# import tf.keras as keras"
   ]
  },
  {
   "cell_type": "code",
   "execution_count": 4,
   "metadata": {
    "execution": {
     "iopub.execute_input": "2022-04-21T07:38:43.390487Z",
     "iopub.status.busy": "2022-04-21T07:38:43.390212Z",
     "iopub.status.idle": "2022-04-21T07:38:43.402434Z",
     "shell.execute_reply": "2022-04-21T07:38:43.401765Z",
     "shell.execute_reply.started": "2022-04-21T07:38:43.390436Z"
    }
   },
   "outputs": [],
   "source": [
    "os.listdir('../input/fire-dataset/fire_dataset')"
   ]
  },
  {
   "cell_type": "code",
   "execution_count": 5,
   "metadata": {
    "execution": {
     "iopub.execute_input": "2022-04-21T07:38:43.406284Z",
     "iopub.status.busy": "2022-04-21T07:38:43.405979Z",
     "iopub.status.idle": "2022-04-21T07:38:43.416595Z",
     "shell.execute_reply": "2022-04-21T07:38:43.415640Z",
     "shell.execute_reply.started": "2022-04-21T07:38:43.406224Z"
    }
   },
   "outputs": [],
   "source": [
    "def make_train_data(label,DIR):\n",
    "    for img in tqdm(os.listdir(DIR)):\n",
    "        path = os.path.join(DIR,img)\n",
    "        img = Image.open(path)\n",
    "        img = img.resize((IMG_SIZE,IMG_SIZE))\n",
    "        img =img.convert('RGB')\n",
    "        img= np.array(img)\n",
    "        X.append(img)\n",
    "        Z.append(str(label))"
   ]
  },
  {
   "cell_type": "code",
   "execution_count": 6,
   "metadata": {
    "execution": {
     "iopub.execute_input": "2022-04-21T07:38:43.421810Z",
     "iopub.status.busy": "2022-04-21T07:38:43.421532Z",
     "iopub.status.idle": "2022-04-21T07:39:21.204754Z",
     "shell.execute_reply": "2022-04-21T07:39:21.204092Z",
     "shell.execute_reply.started": "2022-04-21T07:38:43.421756Z"
    }
   },
   "outputs": [],
   "source": [
    "\n",
    "\n",
    "X=[]\n",
    "Z=[]\n",
    "IMG_SIZE=256\n",
    "FIRE='../input/fire-dataset/fire_dataset/fire_images'\n",
    "NOTFIRE='../input/fire-dataset/fire_dataset/non_fire_images'\n",
    "\n",
    "make_train_data('1',FIRE)\n",
    "make_train_data('0',NOTFIRE)\n",
    "\n"
   ]
  },
  {
   "cell_type": "code",
   "execution_count": 7,
   "metadata": {
    "execution": {
     "iopub.execute_input": "2022-04-21T07:39:21.207385Z",
     "iopub.status.busy": "2022-04-21T07:39:21.207086Z",
     "iopub.status.idle": "2022-04-21T07:39:22.308968Z",
     "shell.execute_reply": "2022-04-21T07:39:22.304701Z",
     "shell.execute_reply.started": "2022-04-21T07:39:21.207327Z"
    }
   },
   "outputs": [],
   "source": [
    "X=np.array(X)\n",
    "fig,ax=plt.subplots(2,5)\n",
    "plt.subplots_adjust(bottom=0.3, top=0.7, hspace=0)\n",
    "fig.set_size_inches(10,10)\n",
    "\n",
    "for i in range(2):\n",
    "    for j in range (5):\n",
    "        l=rn.randint(0,len(Z))\n",
    "        ax[i,j].imshow(X[l])\n",
    "        ax[i,j].set_title(Z[l])\n",
    "        ax[i,j].set_aspect('equal')\n"
   ]
  },
  {
   "cell_type": "code",
   "execution_count": 8,
   "metadata": {
    "execution": {
     "iopub.execute_input": "2022-04-21T07:39:22.310373Z",
     "iopub.status.busy": "2022-04-21T07:39:22.310118Z",
     "iopub.status.idle": "2022-04-21T07:39:22.320493Z",
     "shell.execute_reply": "2022-04-21T07:39:22.319627Z",
     "shell.execute_reply.started": "2022-04-21T07:39:22.310334Z"
    }
   },
   "outputs": [],
   "source": [
    "le=LabelEncoder()\n",
    "Y=le.fit_transform(Z)\n",
    "# print(Y)\n",
    "Y=to_categorical(Y,2)\n",
    "print(Y[800])\n",
    "# non fire-0\n",
    "# fire-1\n",
    "print('RGB value of image',X[0][0][0])"
   ]
  },
  {
   "cell_type": "code",
   "execution_count": 9,
   "metadata": {
    "execution": {
     "iopub.execute_input": "2022-04-21T07:39:22.322456Z",
     "iopub.status.busy": "2022-04-21T07:39:22.322028Z",
     "iopub.status.idle": "2022-04-21T07:39:22.636636Z",
     "shell.execute_reply": "2022-04-21T07:39:22.635868Z",
     "shell.execute_reply.started": "2022-04-21T07:39:22.322409Z"
    }
   },
   "outputs": [],
   "source": [
    "#example preprocessing\n",
    "\n",
    "\n",
    "path=\"../input/fire-dataset/fire_dataset/fire_images/fire.1.png\"\n",
    "import math\n",
    "x=Image.open(path)\n",
    "x=x.resize((IMG_SIZE,IMG_SIZE))\n",
    "x =x.convert('RGB')\n",
    "plt.imshow(x)\n",
    "arr=np.array(x)\n",
    "print(arr.shape)\n",
    "#segmentaion HSI\n",
    "\n",
    "for i in range(IMG_SIZE):\n",
    "    for j in range(IMG_SIZE):\n",
    "        r=arr[i,j,0]\n",
    "        g=arr[i,j,1]\n",
    "        b=arr[i,j,2]\n",
    "        if(r>g and g>b ):\n",
    "            pass\n",
    "        else:\n",
    "            arr[i,j]=[0,0,0]\n",
    "        \n",
    "# res=np.zeros((IMG_SIZE,IMG_SIZE,3))\n",
    "# for i in range(IMG_SIZE):\n",
    "#     for j in range(IMG_SIZE):\n",
    "#         s=np.sum(arr[i,j])\n",
    "#         r=arr[i,j,0]/s\n",
    "#         g=arr[i,j,1]/s\n",
    "#         b=arr[i,j,2]/s\n",
    "#         res[i,j,2]=(s*1.0)/3\n",
    "#         res[i,j,1]=(1-(3.0 * min([r,g,b])))*100\n",
    "#         d=math.sqrt((r-g)*(r-g)+(r-b)*(g-b))\n",
    "#         val= (0.5*(r-g+r-b))/(d+0.0000001)\n",
    "#         theta = math.degrees(math.acos(val))\n",
    "#         if(b<=g):\n",
    "#             res[i,j,0]=(theta)\n",
    "#         else:\n",
    "#             res[i,j,0]=(360-theta)\n",
    "#         d=math.sqrt((r-g)*(r-g)+(r-b)*(g-b))\n",
    "#         val= (0.5*(r-g+r-b))/(d+0.0000001)\n",
    "#         theta = math.degrees(math.acos(val))\n",
    "#         if(b<=g):\n",
    "#             res[i,j,0]=(theta)\n",
    "#         else:\n",
    "#             res[i,j,0]=(360-theta)\n",
    "       "
   ]
  },
  {
   "cell_type": "code",
   "execution_count": 10,
   "metadata": {
    "execution": {
     "iopub.execute_input": "2022-04-21T07:39:22.638216Z",
     "iopub.status.busy": "2022-04-21T07:39:22.637826Z",
     "iopub.status.idle": "2022-04-21T07:39:23.310635Z",
     "shell.execute_reply": "2022-04-21T07:39:23.309349Z",
     "shell.execute_reply.started": "2022-04-21T07:39:22.638170Z"
    }
   },
   "outputs": [],
   "source": [
    "!ls '../input/fire-dataset/fire_dataset/fire_images/fire.1.png'"
   ]
  },
  {
   "cell_type": "code",
   "execution_count": 11,
   "metadata": {
    "execution": {
     "iopub.execute_input": "2022-04-21T07:39:23.316414Z",
     "iopub.status.busy": "2022-04-21T07:39:23.315424Z",
     "iopub.status.idle": "2022-04-21T07:39:23.556112Z",
     "shell.execute_reply": "2022-04-21T07:39:23.555406Z",
     "shell.execute_reply.started": "2022-04-21T07:39:23.316199Z"
    }
   },
   "outputs": [],
   "source": [
    "plt.imshow(arr)"
   ]
  },
  {
   "cell_type": "code",
   "execution_count": 12,
   "metadata": {
    "execution": {
     "iopub.execute_input": "2022-04-21T07:39:23.560668Z",
     "iopub.status.busy": "2022-04-21T07:39:23.559103Z",
     "iopub.status.idle": "2022-04-21T07:39:23.571806Z",
     "shell.execute_reply": "2022-04-21T07:39:23.570888Z",
     "shell.execute_reply.started": "2022-04-21T07:39:23.560616Z"
    }
   },
   "outputs": [],
   "source": [
    "def segmentation(arr):\n",
    "    for i in range(IMG_SIZE):\n",
    "        for j in range(IMG_SIZE):\n",
    "            r=arr[i,j,0]\n",
    "            g=arr[i,j,1]\n",
    "            b=arr[i,j,2]\n",
    "            if(r>g and g>b and r>200):\n",
    "                pass\n",
    "            else:\n",
    "                arr[i,j]=[0,0,0]\n",
    "    return arr"
   ]
  },
  {
   "cell_type": "code",
   "execution_count": 13,
   "metadata": {
    "execution": {
     "iopub.execute_input": "2022-04-21T07:39:23.579621Z",
     "iopub.status.busy": "2022-04-21T07:39:23.577275Z",
     "iopub.status.idle": "2022-04-21T07:43:53.175721Z",
     "shell.execute_reply": "2022-04-21T07:43:53.174996Z",
     "shell.execute_reply.started": "2022-04-21T07:39:23.579571Z"
    }
   },
   "outputs": [],
   "source": [
    "X_new=[]\n",
    "for mat in X:\n",
    "    X_new.append(segmentation(mat))\n"
   ]
  },
  {
   "cell_type": "code",
   "execution_count": 14,
   "metadata": {
    "execution": {
     "iopub.execute_input": "2022-04-21T07:43:53.177470Z",
     "iopub.status.busy": "2022-04-21T07:43:53.177156Z",
     "iopub.status.idle": "2022-04-21T07:43:54.434325Z",
     "shell.execute_reply": "2022-04-21T07:43:54.432946Z",
     "shell.execute_reply.started": "2022-04-21T07:43:53.177425Z"
    }
   },
   "outputs": [],
   "source": [
    "X_new=np.array(X_new)\n",
    "fig,ax=plt.subplots(2,5)\n",
    "plt.subplots_adjust(bottom=0.3, top=0.7, hspace=0)\n",
    "fig.set_size_inches(10,10)\n",
    "\n",
    "for i in range(2):\n",
    "    for j in range (5):\n",
    "        l=rn.randint(0,len(Z))\n",
    "        ax[i,j].imshow(X_new[l])\n",
    "        ax[i,j].set_title(Z[l])\n",
    "        ax[i,j].set_aspect('equal')\n",
    "\n"
   ]
  },
  {
   "cell_type": "code",
   "execution_count": 15,
   "metadata": {
    "execution": {
     "iopub.execute_input": "2022-04-21T07:43:54.445159Z",
     "iopub.status.busy": "2022-04-21T07:43:54.441916Z",
     "iopub.status.idle": "2022-04-21T07:43:54.595106Z",
     "shell.execute_reply": "2022-04-21T07:43:54.594367Z",
     "shell.execute_reply.started": "2022-04-21T07:43:54.445098Z"
    }
   },
   "outputs": [],
   "source": [
    "x_train,x_test,y_train,y_test=train_test_split(X_new,Y,test_size=0.25,random_state=1337)\n",
    "\n",
    "np.random.seed(42)\n",
    "rn.seed(42)\n",
    "#tf.set_random_seed(42)"
   ]
  },
  {
   "cell_type": "code",
   "execution_count": 16,
   "metadata": {
    "execution": {
     "iopub.execute_input": "2022-04-21T07:43:54.602095Z",
     "iopub.status.busy": "2022-04-21T07:43:54.599881Z",
     "iopub.status.idle": "2022-04-21T07:43:59.894792Z",
     "shell.execute_reply": "2022-04-21T07:43:59.894046Z",
     "shell.execute_reply.started": "2022-04-21T07:43:54.602034Z"
    }
   },
   "outputs": [],
   "source": [
    "base_model=VGG16(include_top=False, weights='imagenet',input_shape=(IMG_SIZE,IMG_SIZE,3), pooling='max')\n",
    "base_model.summary()"
   ]
  },
  {
   "cell_type": "code",
   "execution_count": 17,
   "metadata": {
    "execution": {
     "iopub.execute_input": "2022-04-21T07:43:59.900989Z",
     "iopub.status.busy": "2022-04-21T07:43:59.898880Z",
     "iopub.status.idle": "2022-04-21T07:44:00.114810Z",
     "shell.execute_reply": "2022-04-21T07:44:00.113835Z",
     "shell.execute_reply.started": "2022-04-21T07:43:59.900938Z"
    }
   },
   "outputs": [],
   "source": [
    "model=Sequential()\n",
    "model.add(base_model)\n",
    "model.add(Dropout(0.20))\n",
    "model.add(Dense(2048,activation='relu'))\n",
    "model.add(Dense(1024,activation='relu'))\n",
    "model.add(Dense(512,activation='relu'))\n",
    "model.add(Dense(2,activation='softmax'))"
   ]
  },
  {
   "cell_type": "code",
   "execution_count": 18,
   "metadata": {
    "execution": {
     "iopub.execute_input": "2022-04-21T07:44:00.116633Z",
     "iopub.status.busy": "2022-04-21T07:44:00.116289Z",
     "iopub.status.idle": "2022-04-21T07:44:00.180133Z",
     "shell.execute_reply": "2022-04-21T07:44:00.179438Z",
     "shell.execute_reply.started": "2022-04-21T07:44:00.116585Z"
    }
   },
   "outputs": [],
   "source": [
    "\n",
    "epochs=32\n",
    "batch_size=128\n",
    "base_model.trainable=True \n",
    "# simple early stopping\n",
    "es = EarlyStopping(monitor='val_loss', mode='min', verbose=1, patience=15)\n",
    "model.compile(optimizer=Adam(lr=1e-5),loss='binary_crossentropy',metrics=['accuracy'])\n",
    "model.summary()"
   ]
  },
  {
   "cell_type": "code",
   "execution_count": 19,
   "metadata": {
    "execution": {
     "iopub.execute_input": "2022-04-21T07:44:00.181833Z",
     "iopub.status.busy": "2022-04-21T07:44:00.181524Z",
     "iopub.status.idle": "2022-04-21T07:46:51.710488Z",
     "shell.execute_reply": "2022-04-21T07:46:51.709299Z",
     "shell.execute_reply.started": "2022-04-21T07:44:00.181785Z"
    }
   },
   "outputs": [],
   "source": [
    "History = model.fit(x_train, y_train, epochs=epochs, validation_data=(x_test,y_test),callbacks=[es])"
   ]
  },
  {
   "cell_type": "code",
   "execution_count": 20,
   "metadata": {
    "execution": {
     "iopub.execute_input": "2022-04-21T07:46:51.712348Z",
     "iopub.status.busy": "2022-04-21T07:46:51.712064Z",
     "iopub.status.idle": "2022-04-21T07:46:52.195215Z",
     "shell.execute_reply": "2022-04-21T07:46:52.194461Z",
     "shell.execute_reply.started": "2022-04-21T07:46:51.712300Z"
    }
   },
   "outputs": [],
   "source": [
    "model.save('../working/model2.h5')"
   ]
  },
  {
   "cell_type": "code",
   "execution_count": null,
   "metadata": {},
   "outputs": [],
   "source": [
    "def representative_data_gen():\n",
    "    for input_value in tf.data.Dataset.from_tensor_slices(train_images).batch(1).take(10):\n",
    "        yield [input_value]\n",
    "\n",
    "modelName = \"fireClassification\"\n",
    "converter = tf.lite.TFLiteConverter.from_keras_model(model)\n",
    "converter.optimizations = [tf.lite.Optimize.DEFAULT]\n",
    "converter.representative_dataset = representative_data_gen\n",
    "# Ensure that if any ops can't be quantized, the converter throws an error\n",
    "converter.target_spec.supported_ops = [tf.lite.OpsSet.TFLITE_BUILTINS_INT8]\n",
    "# Set the input and output tensors to uint8 (APIs added in r2.3)\n",
    "converter.inference_input_type = tf.uint8\n",
    "converter.inference_output_type = tf.uint8\n",
    "\n",
    "tflite_model_quant = converter.convert()\n",
    "open(str(modelName+\".tflite\"), \"wb\").write(tflite_model)"
   ]
  },
  {
   "cell_type": "code",
   "execution_count": null,
   "metadata": {
    "execution": {
     "iopub.status.busy": "2022-04-21T05:35:42.302953Z",
     "iopub.status.idle": "2022-04-21T05:35:42.303606Z"
    }
   },
   "outputs": [],
   "source": [
    "plt.plot(History.history['accuracy'])\n",
    "plt.plot(History.history['val_accuracy'])\n",
    "plt.title('Model Accuracy')\n",
    "plt.ylabel('Accuracy')\n",
    "plt.xlabel('Epochs')\n",
    "plt.legend(['train', 'test'])\n",
    "plt.show()"
   ]
  },
  {
   "cell_type": "code",
   "execution_count": null,
   "metadata": {
    "execution": {
     "iopub.status.busy": "2022-04-21T05:35:42.304795Z",
     "iopub.status.idle": "2022-04-21T05:35:42.305415Z"
    }
   },
   "outputs": [],
   "source": [
    "plt.plot(History.history['loss'])\n",
    "plt.plot(History.history['val_loss'])\n",
    "plt.title('Model Loss')\n",
    "plt.ylabel('Loss')\n",
    "plt.xlabel('Epochs')\n",
    "plt.legend(['train', 'test'])\n",
    "plt.show()"
   ]
  },
  {
   "cell_type": "code",
   "execution_count": null,
   "metadata": {
    "execution": {
     "iopub.status.busy": "2022-04-21T05:35:42.306703Z",
     "iopub.status.idle": "2022-04-21T05:35:42.307318Z"
    }
   },
   "outputs": [],
   "source": [
    "from keras.preprocessing.image import load_img, img_to_array\n",
    "path=\"../input/fire-dataset/fire_dataset/fire_images/fire.2.png\"\n",
    "x=Image.open(path)\n",
    "x=x.resize((IMG_SIZE,IMG_SIZE))\n",
    "x=x.convert('RGB')\n",
    "plt.imshow(x)\n",
    "x = img_to_array(x)\n",
    "x= segmentation(x)\n",
    "# plt.imshow(x)\n",
    "x = np.expand_dims(x, axis=0)\n",
    "array = model.predict(x)\n",
    "print(array)\n",
    "result = array[0]\n",
    "answer = np.argmax(result)\n",
    "print(answer)"
   ]
  },
  {
   "cell_type": "code",
   "execution_count": null,
   "metadata": {
    "execution": {
     "iopub.status.busy": "2022-04-21T05:35:42.308466Z",
     "iopub.status.idle": "2022-04-21T05:35:42.309092Z"
    }
   },
   "outputs": [],
   "source": [
    "count=0\n",
    "for x in X_new:\n",
    "#     plt.imshow(x)\n",
    "    x = np.expand_dims(x, axis=0)\n",
    "    array = model.predict(x)\n",
    "#     print(array)\n",
    "    result = array[0]\n",
    "    answer = np.argmax(result)\n",
    "    if answer :\n",
    "        count+=1\n",
    "#     print(answer)"
   ]
  },
  {
   "cell_type": "code",
   "execution_count": null,
   "metadata": {
    "execution": {
     "iopub.status.busy": "2022-04-21T05:35:42.310206Z",
     "iopub.status.idle": "2022-04-21T05:35:42.310814Z"
    }
   },
   "outputs": [],
   "source": [
    "print(count,X_new.shape[0]-count)"
   ]
  },
  {
   "cell_type": "code",
   "execution_count": null,
   "metadata": {},
   "outputs": [],
   "source": []
  }
 ],
 "metadata": {
  "kernelspec": {
   "display_name": "Python 3 (ipykernel)",
   "language": "python",
   "name": "python3"
  },
  "language_info": {
   "codemirror_mode": {
    "name": "ipython",
    "version": 3
   },
   "file_extension": ".py",
   "mimetype": "text/x-python",
   "name": "python",
   "nbconvert_exporter": "python",
   "pygments_lexer": "ipython3",
   "version": "3.9.10"
  },
  "varInspector": {
   "cols": {
    "lenName": 16,
    "lenType": 16,
    "lenVar": 40
   },
   "kernels_config": {
    "python": {
     "delete_cmd_postfix": "",
     "delete_cmd_prefix": "del ",
     "library": "var_list.py",
     "varRefreshCmd": "print(var_dic_list())"
    },
    "r": {
     "delete_cmd_postfix": ") ",
     "delete_cmd_prefix": "rm(",
     "library": "var_list.r",
     "varRefreshCmd": "cat(var_dic_list()) "
    }
   },
   "types_to_exclude": [
    "module",
    "function",
    "builtin_function_or_method",
    "instance",
    "_Feature"
   ],
   "window_display": false
  }
 },
 "nbformat": 4,
 "nbformat_minor": 4
}
